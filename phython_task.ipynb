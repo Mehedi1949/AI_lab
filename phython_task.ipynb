{
  "nbformat": 4,
  "nbformat_minor": 0,
  "metadata": {
    "colab": {
      "name": "phython_task.ipynb",
      "provenance": [],
      "include_colab_link": true
    },
    "kernelspec": {
      "name": "python3",
      "display_name": "Python 3"
    }
  },
  "cells": [
    {
      "cell_type": "markdown",
      "metadata": {
        "id": "view-in-github",
        "colab_type": "text"
      },
      "source": [
        "<a href=\"https://colab.research.google.com/github/Mehedi1949/AI_lab/blob/main/phython_task.ipynb\" target=\"_parent\"><img src=\"https://colab.research.google.com/assets/colab-badge.svg\" alt=\"Open In Colab\"/></a>"
      ]
    },
    {
      "cell_type": "markdown",
      "metadata": {
        "id": "9vuHaompab_C"
      },
      "source": [
        "**Practice**"
      ]
    },
    {
      "cell_type": "code",
      "metadata": {
        "colab": {
          "base_uri": "https://localhost:8080/"
        },
        "id": "_8ZMJoBeabSt",
        "outputId": "79bd97ea-2885-4777-c7b8-bfd4752ffecd"
      },
      "source": [
        "data = []\r\n",
        "choice = 'random'\r\n",
        "\r\n",
        "def line():\r\n",
        "    print('---------------------------')\r\n",
        "\r\n",
        "def show_menu():\r\n",
        "    line()\r\n",
        "    print('MENU')\r\n",
        "    line()\r\n",
        "    print('1. Add item')\r\n",
        "    print('2. Mark as done')\r\n",
        "    print('3. View list')\r\n",
        "    print('4. Exit')\r\n",
        "    line()\r\n",
        "    choice = input('Enter your choice: ')\r\n",
        "    return choice\r\n",
        "\r\n",
        "while choice != '4':\r\n",
        "    choice = show_menu()\r\n",
        "    if choice == '1':\r\n",
        "        item = input('What is to be done? ')\r\n",
        "        data.append(item)\r\n",
        "        print('Item', item, 'added')\r\n",
        "    elif choice == '2':\r\n",
        "        item = input('What is to be marked as done? ')\r\n",
        "        if item in data:\r\n",
        "            data.remove(item)\r\n",
        "            print('Removed item', item)\r\n",
        "        else:\r\n",
        "            print('Could not find item', item)\r\n",
        "    elif choice == '3':\r\n",
        "        print('List of to-do items:')\r\n",
        "        for item in data:\r\n",
        "            print(item)\r\n",
        "    elif choice == '4':\r\n",
        "        print('Goodbye!')\r\n",
        "    else:\r\n",
        "        print('Please enter one of 1, 2, 3 or 4')"
      ],
      "execution_count": null,
      "outputs": [
        {
          "output_type": "stream",
          "text": [
            "---------------------------\n",
            "MENU\n",
            "---------------------------\n",
            "1. Add item\n",
            "2. Mark as done\n",
            "3. View list\n",
            "4. Exit\n",
            "---------------------------\n",
            "Enter your choice: 1\n",
            "What is to be done? ai\n",
            "Item ai added\n",
            "---------------------------\n",
            "MENU\n",
            "---------------------------\n",
            "1. Add item\n",
            "2. Mark as done\n",
            "3. View list\n",
            "4. Exit\n",
            "---------------------------\n",
            "Enter your choice: 3\n",
            "List of to-do items:\n",
            "ai\n",
            "---------------------------\n",
            "MENU\n",
            "---------------------------\n",
            "1. Add item\n",
            "2. Mark as done\n",
            "3. View list\n",
            "4. Exit\n",
            "---------------------------\n",
            "Enter your choice: 2\n",
            "What is to be marked as done? ai\n",
            "Removed item ai\n",
            "---------------------------\n",
            "MENU\n",
            "---------------------------\n",
            "1. Add item\n",
            "2. Mark as done\n",
            "3. View list\n",
            "4. Exit\n",
            "---------------------------\n",
            "Enter your choice: 4\n",
            "Goodbye!\n"
          ],
          "name": "stdout"
        }
      ]
    },
    {
      "cell_type": "markdown",
      "metadata": {
        "id": "rSM7_N6Hargg"
      },
      "source": [
        "**Task**"
      ]
    },
    {
      "cell_type": "code",
      "metadata": {
        "colab": {
          "base_uri": "https://localhost:8080/"
        },
        "id": "4LVgUck7FTWg",
        "outputId": "1c0597c4-d76c-431f-a2af-dfe1b2791a6b"
      },
      "source": [
        "\r\n",
        "data = []\r\n",
        "choice = 'random'\r\n",
        "def line():\r\n",
        "  print('-------------------------------')\r\n",
        "\r\n",
        "def menu():\r\n",
        "  line()\r\n",
        "  print('           Main menu')\r\n",
        "  line()\r\n",
        "  print(f'1.Add course name \\n2.View course list\\n  3.Remove course\\n 4.Exit')\r\n",
        "  select = input(\"Select one of them : \")\r\n",
        "  return select\r\n",
        "\r\n",
        "list = []\r\n",
        "select = ''\r\n",
        "\r\n",
        "while select != '4':\r\n",
        "  select = menu()\r\n",
        "  if select == '1':\r\n",
        "    n = int(input('\\nHow many course you want to add ? '))\r\n",
        "    for i in range(n):\r\n",
        "      item = input('Enter your course name : ')\r\n",
        "      list.append(item)\r\n",
        "    print('All course are added\\n')\r\n",
        "  elif select == '2':\r\n",
        "    if len(list) == 0:\r\n",
        "      print(\"Your course list is empty.\\n\")\r\n",
        "    else:\r\n",
        "      print('\\n****** Your course list ******')\r\n",
        "      for i in list:\r\n",
        "        print(f'{list.index(i)+1}. {i}')\r\n",
        "      print('\\n')\r\n",
        "  elif select == '3':\r\n",
        "    if len(list) == 0:\r\n",
        "      print(\"Your list is empty.\\n\")\r\n",
        "    else:\r\n",
        "      n = input(\"\\nHow many course you want to remove ('a' for all) ? \")\r\n",
        "      if n == 'a':\r\n",
        "        list = []\r\n",
        "        print('All of your course removed\\n')\r\n",
        "      else:\r\n",
        "        for c in range(int(n)):\r\n",
        "          for i in list:\r\n",
        "            print(f'{list.index(i)+1}. {i}')\r\n",
        "          item = input('Select one of them for remove : ')\r\n",
        "          for s in list:\r\n",
        "            if s == item:\r\n",
        "              list.remove(s)\r\n",
        "            elif s == list[int(item)-1]: \r\n",
        "              list.remove(list[int(item)-1])\r\n",
        "        print('Your selected course removed\\n')\r\n",
        "  elif select == '4':\r\n",
        "    print('Goodbye!')\r\n",
        "  else:\r\n",
        "    menu()"
      ],
      "execution_count": null,
      "outputs": [
        {
          "output_type": "stream",
          "text": [
            "-------------------------------\n",
            "           Main menu\n",
            "-------------------------------\n",
            "1.Add course name \n",
            "2.View course list\n",
            "  3.Remove course\n",
            " 4.Exit\n",
            "Select one of them : 1\n",
            "\n",
            "How many course you want to add ? 2\n",
            "Enter your course name : ai\n",
            "Enter your course name : web\n",
            "All course are added\n",
            "\n",
            "-------------------------------\n",
            "           Main menu\n",
            "-------------------------------\n",
            "1.Add course name \n",
            "2.View course list\n",
            "  3.Remove course\n",
            " 4.Exit\n",
            "Select one of them : 2\n",
            "\n",
            "****** Your course list ******\n",
            "1. ai\n",
            "2. web\n",
            "\n",
            "\n",
            "-------------------------------\n",
            "           Main menu\n",
            "-------------------------------\n",
            "1.Add course name \n",
            "2.View course list\n",
            "  3.Remove course\n",
            " 4.Exit\n",
            "Select one of them : 3\n",
            "\n",
            "How many course you want to remove ('a' for all) ? 1\n",
            "1. ai\n",
            "2. web\n",
            "Select one of them for remove : 1\n",
            "Your selected course removed\n",
            "\n",
            "-------------------------------\n",
            "           Main menu\n",
            "-------------------------------\n",
            "1.Add course name \n",
            "2.View course list\n",
            "  3.Remove course\n",
            " 4.Exit\n",
            "Select one of them : 4\n",
            "Goodbye!\n"
          ],
          "name": "stdout"
        }
      ]
    },
    {
      "cell_type": "code",
      "metadata": {
        "id": "vqCCDRq8ForZ"
      },
      "source": [
        ""
      ],
      "execution_count": null,
      "outputs": []
    }
  ]
}